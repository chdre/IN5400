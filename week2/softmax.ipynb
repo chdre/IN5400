{
 "cells": [
  {
   "cell_type": "markdown",
   "metadata": {},
   "source": [
    "# Softmax exercise\n",
    "\n",
    "*Complete  this  worksheet (including its outputs and any supporting code outside of the worksheet) with your assignment submission. \n",
    "\n",
    "In this exercise you will:\n",
    "\n",
    "- implement a **loss function** for the Softmax classifier\n",
    "- implement the  expression for its **analytic gradient**\n",
    "- **check your implementation** with numerical gradient\n",
    "- use a validation set to **tune the learning rate\n",
    "- **optimize** the loss function with **SGD**\n",
    "- **visualize** the final learned weights\n",
    "\n",
    "Do the knn notebook first to download the CIFAR10 data. \n"
   ]
  },
  {
   "cell_type": "code",
   "execution_count": 9,
   "metadata": {},
   "outputs": [
    {
     "name": "stdout",
     "output_type": "stream",
     "text": [
      "The autoreload extension is already loaded. To reload it, use:\n",
      "  %reload_ext autoreload\n"
     ]
    }
   ],
   "source": [
    "from __future__ import print_function\n",
    "import random\n",
    "import numpy as np\n",
    "from in5400.data_utils import load_CIFAR10\n",
    "import matplotlib.pyplot as plt\n",
    "\n",
    "\n",
    "%matplotlib inline\n",
    "plt.rcParams['figure.figsize'] = (10.0, 8.0) # set default size of plots\n",
    "plt.rcParams['image.interpolation'] = 'nearest'\n",
    "plt.rcParams['image.cmap'] = 'gray'\n",
    "\n",
    "# for auto-reloading extenrnal modules\n",
    "# see http://stackoverflow.com/questions/1907993/autoreload-of-modules-in-ipython\n",
    "%load_ext autoreload\n",
    "%autoreload 2"
   ]
  },
  {
   "cell_type": "markdown",
   "metadata": {},
   "source": [
    "The code uses a traning set, validation set, test set. The small development set is not not necessarily used)"
   ]
  },
  {
   "cell_type": "code",
   "execution_count": 10,
   "metadata": {},
   "outputs": [
    {
     "name": "stdout",
     "output_type": "stream",
     "text": [
      "Train data shape:  (49000, 3073)\n",
      "Train labels shape:  (49000,)\n",
      "Validation data shape:  (1000, 3073)\n",
      "Validation labels shape:  (1000,)\n",
      "Test data shape:  (1000, 3073)\n",
      "Test labels shape:  (1000,)\n",
      "dev data shape:  (500, 3073)\n",
      "dev labels shape:  (500,)\n"
     ]
    }
   ],
   "source": [
    "def get_CIFAR10_data(num_training=49000, num_validation=1000, num_test=1000, num_dev=500):\n",
    "    \"\"\"\n",
    "    Load the CIFAR-10 dataset from disk and perform preprocessing to prepare\n",
    "    it for the linear classifier.  \n",
    "    \"\"\"\n",
    "    # Load the raw CIFAR-10 data\n",
    "    cifar10_dir = 'in5400/datasets/cifar-10-batches-py'\n",
    "    X_train, y_train, X_test, y_test = load_CIFAR10(cifar10_dir)\n",
    "    \n",
    "    # subsample the data to use the split the training data into a training and a validation subset\n",
    "    mask = list(range(num_training, num_training + num_validation))\n",
    "    X_val = X_train[mask]\n",
    "    y_val = y_train[mask]\n",
    "    mask = list(range(num_training))\n",
    "    X_train = X_train[mask]\n",
    "    y_train = y_train[mask]\n",
    "    mask = list(range(num_test))\n",
    "    X_test = X_test[mask]\n",
    "    y_test = y_test[mask]\n",
    "    mask = np.random.choice(num_training, num_dev, replace=False)\n",
    "    X_dev = X_train[mask]\n",
    "    y_dev = y_train[mask]\n",
    "    \n",
    "    # Preprocessing: reshape the image data into rows\n",
    "    X_train = np.reshape(X_train, (X_train.shape[0], -1))\n",
    "    X_val = np.reshape(X_val, (X_val.shape[0], -1))\n",
    "    X_test = np.reshape(X_test, (X_test.shape[0], -1))\n",
    "    X_dev = np.reshape(X_dev, (X_dev.shape[0], -1))\n",
    "    \n",
    "    # Normalize the data: subtract the mean image\n",
    "    mean_image = np.mean(X_train, axis = 0)\n",
    "    X_train -= mean_image\n",
    "    X_val -= mean_image\n",
    "    X_test -= mean_image\n",
    "    X_dev -= mean_image\n",
    "    \n",
    "    # add bias dimension and transform into columns\n",
    "    X_train = np.hstack([X_train, np.ones((X_train.shape[0], 1))])\n",
    "    X_val = np.hstack([X_val, np.ones((X_val.shape[0], 1))])\n",
    "    X_test = np.hstack([X_test, np.ones((X_test.shape[0], 1))])\n",
    "    X_dev = np.hstack([X_dev, np.ones((X_dev.shape[0], 1))])\n",
    "    \n",
    "    return X_train, y_train, X_val, y_val, X_test, y_test, X_dev, y_dev\n",
    "\n",
    "\n",
    "# Invoke the above function to get our data.\n",
    "X_train, y_train, X_val, y_val, X_test, y_test, X_dev, y_dev = get_CIFAR10_data()\n",
    "print('Train data shape: ', X_train.shape)\n",
    "print('Train labels shape: ', y_train.shape)\n",
    "print('Validation data shape: ', X_val.shape)\n",
    "print('Validation labels shape: ', y_val.shape)\n",
    "print('Test data shape: ', X_test.shape)\n",
    "print('Test labels shape: ', y_test.shape)\n",
    "print('dev data shape: ', X_dev.shape)\n",
    "print('dev labels shape: ', y_dev.shape)"
   ]
  },
  {
   "cell_type": "markdown",
   "metadata": {},
   "source": [
    "## Softmax Classifier\n",
    "\n",
    "Your code for this section will all be written inside **in5400/classifiers/softmax.py**. \n",
    "The softmax response for one sample is \n",
    "$L_i = -\\log\\left(\\frac{e^{f_{y_i}}}{ \\sum_j e^{f_j} }\\right) \\hspace{0.5in}$\n",
    "Please see lecture notes for more robust implementation\n",
    "\n",
    "You should sum over all samples\n",
    "\n",
    "\n",
    "#### Note: the functions have the option for including a L2-regularization on the weights, but we will not use (or implement this) now, as this is covered later in the course"
   ]
  },
  {
   "cell_type": "markdown",
   "metadata": {},
   "source": [
    "## Inline Question 1:\n",
    "\n",
    "To answer inline questions: double click on this cell and you will be able to edit it. Fill in your text answer below.\n",
    "\n",
    "Why do we expect our loss to be close to -log(0.1)? Explain briefly.**\n",
    "\n",
    "**Your answer:** We have not trained our model. There is an equiprobability that the image is one of the 10 classes.\n"
   ]
  },
  {
   "cell_type": "code",
   "execution_count": 19,
   "metadata": {},
   "outputs": [
    {
     "name": "stdout",
     "output_type": "stream",
     "text": [
      "loss: 2.350736\n",
      "sanity check: 2.302585\n"
     ]
    }
   ],
   "source": [
    "# First implement the naive softmax loss function with nested loops.\n",
    "# Open the file in5400/classifiers/softmax.py and implement the\n",
    "# softmax_loss_naive function.\n",
    "\n",
    "from in5400.classifiers.softmax import softmax_loss_naive\n",
    "import time\n",
    "\n",
    "# Generate a random softmax weight matrix and use it to compute the loss.\n",
    "W = np.random.randn(3073, 10) * 0.0001\n",
    "loss, grad = softmax_loss_naive(W, X_dev, y_dev, 0.0)\n",
    "\n",
    "# As a rough sanity check, our loss should be something close to -log(0.1).\n",
    "print('loss: %f' % loss)\n",
    "print('sanity check: %f' % (-np.log(0.1)))"
   ]
  },
  {
   "cell_type": "markdown",
   "metadata": {},
   "source": [
    "# Implement the cross entropy cost \n",
    "\n",
    "Compute the gradient of the loss function. "
   ]
  },
  {
   "cell_type": "code",
   "execution_count": 55,
   "metadata": {},
   "outputs": [
    {
     "name": "stdout",
     "output_type": "stream",
     "text": [
      "numerical: -2.413988 analytic: -2.413988, relative error: 8.586563e-09\n",
      "numerical: 0.959076 analytic: 0.959076, relative error: 4.460652e-09\n",
      "numerical: -0.837316 analytic: -0.837316, relative error: 3.369098e-08\n",
      "numerical: 0.579329 analytic: 0.579329, relative error: 1.839345e-08\n",
      "numerical: 0.320648 analytic: 0.320648, relative error: 1.194056e-08\n",
      "numerical: 2.775859 analytic: 2.775859, relative error: 1.141698e-08\n",
      "numerical: 1.125840 analytic: 1.125840, relative error: 3.796753e-09\n",
      "numerical: 0.598648 analytic: 0.598647, relative error: 2.830342e-08\n",
      "numerical: 1.260515 analytic: 1.260514, relative error: 8.403483e-08\n",
      "numerical: 0.429383 analytic: 0.429383, relative error: 3.689737e-08\n"
     ]
    }
   ],
   "source": [
    "# Complete the implementation of softmax_loss_naive and implement a (naive)\n",
    "# version of the gradient that uses nested loops.\n",
    "loss, grad = softmax_loss_naive(W, X_dev, y_dev, 0.0)\n",
    "\n",
    "# Use numeric gradient checking as a debugging tool. We talk about gradient checking on in a later lecture. It is pre-implemented. \n",
    "# The numeric gradient should be close to the analytic gradient.\n",
    "from in5400.gradient_check import grad_check_sparse\n",
    "f = lambda w: softmax_loss_naive(w, X_dev, y_dev, 0.0)[0]\n",
    "grad_numerical = grad_check_sparse(f, W, grad, 10)\n",
    "\n"
   ]
  },
  {
   "cell_type": "markdown",
   "metadata": {},
   "source": [
    "Since the numbers are small, the gradient are also small, and your difference should also be very small, arbound e-07 or smaller"
   ]
  },
  {
   "cell_type": "markdown",
   "metadata": {},
   "source": [
    "## Loss function gradients per sample\n",
    "\n",
    "Now implement the loss function gradients using loops, and sum over all samples to get the total cost. \n",
    "\n",
    "The gradient  for one sample $dL_i/dW$ is\n",
    "\n",
    "$dL_i/dW = \\sum_{k=1}^{n_y} [\\hat{y_i}-(k==y_i)]x_i$\n",
    "\n",
    "## Vectorized updates per sample\n",
    "\n",
    "Now implement the loss function gradients vectorized\n",
    "\n",
    "The gradient is \n",
    "\n",
    "$dC/dW = \\frac{1}{m} X^T [\\hat{Y}-\\tilde{Y}]$\n"
   ]
  },
  {
   "cell_type": "code",
   "execution_count": 75,
   "metadata": {},
   "outputs": [
    {
     "name": "stdout",
     "output_type": "stream",
     "text": [
      "naive loss: 2.350736e+00 computed in 0.086767s\n",
      "vectorized loss: 2.351047e+01 computed in 0.001997s\n",
      "Loss difference: 21.159738\n",
      "Gradient difference: 0.000000\n"
     ]
    }
   ],
   "source": [
    "# Now that we have a naive implementation of the softmax loss function and its gradient,\n",
    "# implement a vectorized version in softmax_loss_vectorized.\n",
    "# The two versions should compute the same results, but the vectorized version should be\n",
    "# much faster.\n",
    "tic = time.time()\n",
    "loss_naive, grad_naive = softmax_loss_naive(W, X_dev, y_dev, 0.0)\n",
    "toc = time.time()\n",
    "print('naive loss: %e computed in %fs' % (loss_naive, toc - tic))\n",
    "\n",
    "from in5400.classifiers.softmax import softmax_loss_vectorized\n",
    "\n",
    "tic = time.time()\n",
    "loss_vectorized, grad_vectorized = softmax_loss_vectorized(W, X_dev, y_dev, 0.0)\n",
    "toc = time.time()\n",
    "print('vectorized loss: %e computed in %fs' % (loss_vectorized, toc - tic))\n",
    "\n",
    "# We use the Frobenius norm to compare the two versions\n",
    "# of the gradient.\n",
    "grad_difference = np.linalg.norm(grad_naive - grad_vectorized, ord='fro')\n",
    "print('Loss difference: %f' % np.abs(loss_naive - loss_vectorized))\n",
    "print('Gradient difference: %f' % grad_difference)"
   ]
  },
  {
   "cell_type": "markdown",
   "metadata": {},
   "source": [
    "The difference in loss should be smaller than 0.1, and the gradient difference close to 0. \n"
   ]
  },
  {
   "cell_type": "code",
   "execution_count": 76,
   "metadata": {},
   "outputs": [
    {
     "name": "stdout",
     "output_type": "stream",
     "text": [
      "iteration 0 / 1000: loss 60.567608\n",
      "iteration 100 / 1000: loss 44.215810\n",
      "iteration 200 / 1000: loss 43.362021\n",
      "iteration 300 / 1000: loss 42.030714\n",
      "iteration 400 / 1000: loss 41.805221\n",
      "iteration 500 / 1000: loss 41.073326\n",
      "iteration 600 / 1000: loss 40.746814\n",
      "iteration 700 / 1000: loss 39.973452\n",
      "iteration 800 / 1000: loss 40.291975\n",
      "iteration 900 / 1000: loss 40.192145\n",
      "iteration 0 / 1000: loss 59.994511\n",
      "iteration 100 / 1000: loss 43.442357\n",
      "iteration 200 / 1000: loss 42.020180\n",
      "iteration 300 / 1000: loss 41.339556\n",
      "iteration 400 / 1000: loss 40.565431\n",
      "iteration 500 / 1000: loss 41.106143\n",
      "iteration 600 / 1000: loss 39.143945\n",
      "iteration 700 / 1000: loss 37.934308\n",
      "iteration 800 / 1000: loss 38.296378\n",
      "iteration 900 / 1000: loss 38.930094\n",
      "iteration 0 / 1000: loss 52.614530\n",
      "iteration 100 / 1000: loss 41.860774\n",
      "iteration 200 / 1000: loss 41.293489\n",
      "iteration 300 / 1000: loss 40.980061\n",
      "iteration 400 / 1000: loss 38.784068\n",
      "iteration 500 / 1000: loss 38.758440\n",
      "iteration 600 / 1000: loss 38.005792\n",
      "iteration 700 / 1000: loss 38.581511\n",
      "iteration 800 / 1000: loss 38.195686\n",
      "iteration 900 / 1000: loss 38.068862\n",
      "iteration 0 / 1000: loss 56.217675\n",
      "iteration 100 / 1000: loss 42.112365\n",
      "iteration 200 / 1000: loss 39.519514\n",
      "iteration 300 / 1000: loss 39.928599\n",
      "iteration 400 / 1000: loss 37.893203\n",
      "iteration 500 / 1000: loss 38.471346\n",
      "iteration 600 / 1000: loss 38.277479\n",
      "iteration 700 / 1000: loss 37.557798\n",
      "iteration 800 / 1000: loss 36.690275\n",
      "iteration 900 / 1000: loss 38.093439\n",
      "iteration 0 / 1000: loss 54.763211\n",
      "iteration 100 / 1000: loss 41.133153\n",
      "iteration 200 / 1000: loss 39.558958\n",
      "iteration 300 / 1000: loss 38.568793\n",
      "iteration 400 / 1000: loss 37.139734\n",
      "iteration 500 / 1000: loss 37.998837\n",
      "iteration 600 / 1000: loss 36.694345\n",
      "iteration 700 / 1000: loss 35.651630\n",
      "iteration 800 / 1000: loss 37.424288\n",
      "iteration 900 / 1000: loss 37.196234\n",
      "train accuracy, validation accuracy, (0.2296326530612245, 0.243)\n",
      "train accuracy, validation accuracy, (0.2587755102040816, 0.272)\n",
      "train accuracy, validation accuracy, (0.2800204081632653, 0.278)\n",
      "train accuracy, validation accuracy, (0.289, 0.309)\n",
      "train accuracy, validation accuracy, (0.30373469387755103, 0.303)\n",
      "Best learning rate: 4e-07  best accuracy: 0.309\n"
     ]
    }
   ],
   "source": [
    "# Use the validation set to tune the learning rate. You should experiment with different ranges for the learning\n",
    "# rates; \n",
    "#Note: we do not use regularization yet\n",
    "\n",
    "from in5400.classifiers import Softmax\n",
    "results = {}\n",
    "best_val = -1\n",
    "best_softmax = None\n",
    "best_lr = -1\n",
    "#Try with different ranges of learning rate, but smaller than 0.001 \n",
    "learning_rates = [1e-7, 5e-7]\n",
    "\n",
    "\n",
    "\n",
    "\n",
    "################################################################################\n",
    "# TODO:                                                                        #\n",
    "# Use the validation set to set the learning rate and regularization strength. #\n",
    "# This should be identical to the validation that you did for the SVM; save    #\n",
    "# the best trained softmax classifer in best_softmax.                          #\n",
    "################################################################################\n",
    "for lr in np.linspace(learning_rates[0], learning_rates[1], 5):\n",
    "        reg=0\n",
    "        softmax = Softmax()\n",
    "        loss_hist = softmax.train(X_train, y_train, learning_rate=lr, num_iters=1000, verbose=True)        \n",
    "        y_train_acc = (softmax.predict(X_train) == y_train).mean()\n",
    "        y_val_acc = (softmax.predict(X_val) == y_val).mean()\n",
    "        results[(lr, reg)] = (y_train_acc, y_val_acc)\n",
    "        if y_val_acc > best_val:\n",
    "            best_val = y_val_acc\n",
    "            best_softmax = softmax\n",
    "            best_lr = lr\n",
    "            \n",
    "################################################################################\n",
    "#                              END OF YOUR CODE                                #\n",
    "################################################################################\n",
    "    \n",
    "# Print out results.\n",
    "#print(results.shape)\n",
    "for lr in sorted(results):\n",
    "    train_accuracy, val_accuracy = results[lr]\n",
    "    print('train accuracy, validation accuracy,',results[lr])\n",
    "    #print('lr %e  train accuracy: %f val accuracy: %f' % (\n",
    "    #            lr,  train_accuracy, val_accuracy))\n",
    "    \n",
    "print('Best learning rate:',best_lr,' best accuracy:',best_val)\n"
   ]
  },
  {
   "cell_type": "code",
   "execution_count": 77,
   "metadata": {},
   "outputs": [
    {
     "name": "stdout",
     "output_type": "stream",
     "text": [
      "softmax on raw pixels final test set accuracy: 0.282000\n"
     ]
    }
   ],
   "source": [
    "# evaluate on test set\n",
    "# Evaluate the best softmax on test set\n",
    "y_test_pred = best_softmax.predict(X_test)\n",
    "test_accuracy = np.mean(y_test == y_test_pred)\n",
    "print('softmax on raw pixels final test set accuracy: %f' % (test_accuracy, ))"
   ]
  },
  {
   "cell_type": "markdown",
   "metadata": {},
   "source": [
    "Check your accuracy, you should get at least 0.30 "
   ]
  },
  {
   "cell_type": "code",
   "execution_count": 78,
   "metadata": {},
   "outputs": [
    {
     "data": {
      "image/png": "[encoded data removed]",
      "text/plain": [
       "<Figure size 720x576 with 10 Axes>"
      ]
     },
     "metadata": {
      "needs_background": "light"
     },
     "output_type": "display_data"
    }
   ],
   "source": [
    "# Visualize the learned weights for each class\n",
    "w = best_softmax.W[:-1,:] # strip out the bias\n",
    "w = w.reshape(32, 32, 3, 10)\n",
    "\n",
    "w_min, w_max = np.min(w), np.max(w)\n",
    "\n",
    "classes = ['plane', 'car', 'bird', 'cat', 'deer', 'dog', 'frog', 'horse', 'ship', 'truck']\n",
    "for i in range(10):\n",
    "    plt.subplot(2, 5, i + 1)\n",
    "    \n",
    "    # Rescale the weights to be between 0 and 255\n",
    "    wimg = 255.0 * (w[:, :, :, i].squeeze() - w_min) / (w_max - w_min)\n",
    "    plt.imshow(wimg.astype('uint8'))\n",
    "    plt.axis('off')\n",
    "    plt.title(classes[i])"
   ]
  },
  {
   "cell_type": "code",
   "execution_count": null,
   "metadata": {
    "collapsed": true
   },
   "outputs": [],
   "source": []
  }
 ],
 "metadata": {
  "kernelspec": {
   "display_name": "Python 3",
   "language": "python",
   "name": "python3"
  },
  "language_info": {
   "codemirror_mode": {
    "name": "ipython",
    "version": 3
   },
   "file_extension": ".py",
   "mimetype": "text/x-python",
   "name": "python",
   "nbconvert_exporter": "python",
   "pygments_lexer": "ipython3",
   "version": "3.7.3"
  }
 },
 "nbformat": 4,
 "nbformat_minor": 1
}
